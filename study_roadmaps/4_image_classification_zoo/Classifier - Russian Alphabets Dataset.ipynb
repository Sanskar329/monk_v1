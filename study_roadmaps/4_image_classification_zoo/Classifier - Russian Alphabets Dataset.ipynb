{
  "nbformat": 4,
  "nbformat_minor": 0,
  "metadata": {
    "colab": {
      "name": "Classifier - Russian Alphabets Dataset",
      "provenance": [],
      "collapsed_sections": [
        "j72eO6kT_EML",
        "nat09RMQ1_AK",
        "8kSitmrLtUGT",
        "xyxLtAHD__iz"
      ]
    },
    "kernelspec": {
      "name": "python3",
      "display_name": "Python 3"
    },
    "accelerator": "GPU"
  },
  "cells": [
    {
      "cell_type": "markdown",
      "metadata": {
        "id": "0bs_ttrq3RSf",
        "colab_type": "text"
      },
      "source": [
        "# Table of contents\n",
        "\n",
        "\n",
        "## Install Monk\n",
        "\n",
        "\n",
        "## Using pretrained model for classifying Russian Alphabets\n",
        "\n",
        "\n",
        "## Training a classifier from scratch (Default mode)"
      ]
    },
    {
      "cell_type": "markdown",
      "metadata": {
        "id": "KaU6Ae5l6Xe4",
        "colab_type": "text"
      },
      "source": [
        "#Install Monk"
      ]
    },
    {
      "cell_type": "markdown",
      "metadata": {
        "id": "uNg4Kch23Z42",
        "colab_type": "text"
      },
      "source": [
        "## Using pip (Recommended)\n",
        "\n",
        "  - colab (gpu) \n",
        "      - All bakcends: `pip install -U monk-colab`\n",
        "      \n",
        "\n",
        "  - kaggle (gpu) \n",
        "      - All backends: `pip install -U monk-kaggle`\n",
        "      \n",
        "\n",
        "  - cuda 10.2\t\n",
        "      - All backends: `pip install -U monk-cuda102`\n",
        "      - Gluon bakcned: `pip install -U monk-gluon-cuda102`\n",
        "\t  - Pytorch backend: `pip install -U monk-pytorch-cuda102`\n",
        "      - Keras backend: `pip install -U monk-keras-cuda102`\n",
        "      \n",
        "\n",
        "  - cuda 10.1\t\n",
        "      - All backend: `pip install -U monk-cuda101`\n",
        "\t  - Gluon bakcned: `pip install -U monk-gluon-cuda101`\n",
        "\t  - Pytorch backend: `pip install -U monk-pytorch-cuda101`\n",
        "\t  - Keras backend: `pip install -U monk-keras-cuda101`\n",
        "      \n",
        "\n",
        "  - cuda 10.0\t\n",
        "      - All backend: `pip install -U monk-cuda100`\n",
        "\t  - Gluon bakcned: `pip install -U monk-gluon-cuda100`\n",
        "\t  - Pytorch backend: `pip install -U monk-pytorch-cuda100`\n",
        "\t  - Keras backend: `pip install -U monk-keras-cuda100`\n",
        "      \n",
        "\n",
        "  - cuda 9.2\t\n",
        "      - All backend: `pip install -U monk-cuda92`\n",
        "\t  - Gluon bakcned: `pip install -U monk-gluon-cuda92`\n",
        "\t  - Pytorch backend: `pip install -U monk-pytorch-cuda92`\n",
        "\t  - Keras backend: `pip install -U monk-keras-cuda92`\n",
        "      \n",
        "\n",
        "  - cuda 9.0\t\n",
        "      - All backend: `pip install -U monk-cuda90`\n",
        "\t  - Gluon bakcned: `pip install -U monk-gluon-cuda90`\n",
        "\t  - Pytorch backend: `pip install -U monk-pytorch-cuda90`\n",
        "\t  - Keras backend: `pip install -U monk-keras-cuda90`\n",
        "      \n",
        "\n",
        "  - cpu \t\t\n",
        "      - All backend: `pip install -U monk-cpu`\n",
        "\t  - Gluon bakcned: `pip install -U monk-gluon-cpu`\n",
        "\t  - Pytorch backend: `pip install -U monk-pytorch-cpu`\n",
        "\t  - Keras backend: `pip install -U monk-keras-cpu`"
      ]
    },
    {
      "cell_type": "markdown",
      "metadata": {
        "id": "3FvF7HpQ3iYk",
        "colab_type": "text"
      },
      "source": [
        "## Install Monk Manually (Not recommended)\n",
        " \n",
        "### Step 1: Clone the library\n",
        " - git clone https://github.com/Tessellate-Imaging/monk_v1.git\n",
        " \n",
        " \n",
        " \n",
        " \n",
        "### Step 2: Install requirements \n",
        " - Linux\n",
        "     - Cuda 9.0\n",
        "         - `cd monk_v1/installation/Linux && pip install -r requirements_cu90.txt`\n",
        "     - Cuda 9.2\n",
        "         - `cd monk_v1/installation/Linux && pip install -r requirements_cu92.txt`\n",
        "     - Cuda 10.0\n",
        "         - `cd monk_v1/installation/Linux && pip install -r requirements_cu100.txt`\n",
        "     - Cuda 10.1\n",
        "         - `cd monk_v1/installation/Linux && pip install -r requirements_cu101.txt`\n",
        "     - Cuda 10.2\n",
        "         - `cd monk_v1/installation/Linux && pip install -r requirements_cu102.txt`\n",
        "     - CPU (Non gpu system)\n",
        "         - `cd monk_v1/installation/Linux && pip install -r requirements_cpu.txt`\n",
        " \n",
        " \n",
        "  - Windows\n",
        "     - Cuda 9.0 (Experimental support)\n",
        "         - `cd monk_v1/installation/Windows && pip install -r requirements_cu90.txt`\n",
        "     - Cuda 9.2 (Experimental support)\n",
        "         - `cd monk_v1/installation/Windows && pip install -r requirements_cu92.txt`\n",
        "     - Cuda 10.0 (Experimental support)\n",
        "         - `cd monk_v1/installation/Windows && pip install -r requirements_cu100.txt`\n",
        "     - Cuda 10.1 (Experimental support)\n",
        "         - `cd monk_v1/installation/Windows && pip install -r requirements_cu101.txt`\n",
        "     - Cuda 10.2 (Experimental support)\n",
        "         - `cd monk_v1/installation/Windows && pip install -r requirements_cu102.txt`\n",
        "     - CPU (Non gpu system)\n",
        "         - `cd monk_v1/installation/Windows && pip install -r requirements_cpu.txt`\n",
        "         \n",
        "         \n",
        "  - Mac\n",
        "     - CPU (Non gpu system)\n",
        "         - `cd monk_v1/installation/Mac && pip install -r requirements_cpu.txt`\n",
        "         \n",
        "         \n",
        "  - Misc\n",
        "      - Colab (GPU)\n",
        "          - `cd monk_v1/installation/Misc && pip install -r requirements_colab.txt`\n",
        "      - Kaggle (GPU)\n",
        "          - `cd monk_v1/installation/Misc && pip install -r requirements_kaggle.txt`\n",
        " \n",
        " \n",
        " \n",
        "### Step 3: Add to system path (Required for every terminal or kernel run)\n",
        " - `import sys`\n",
        " - `sys.path.append(\"monk_v1/\");`"
      ]
    },
    {
      "cell_type": "code",
      "metadata": {
        "id": "DaGrq0fb6gvM",
        "colab_type": "code",
        "colab": {}
      },
      "source": [
        ""
      ],
      "execution_count": null,
      "outputs": []
    },
    {
      "cell_type": "markdown",
      "metadata": {
        "id": "QLsZZM8O3pRV",
        "colab_type": "text"
      },
      "source": [
        "# Used trained classifier for demo"
      ]
    },
    {
      "cell_type": "code",
      "metadata": {
        "id": "WBR1jmPY3u1v",
        "colab_type": "code",
        "colab": {}
      },
      "source": [
        "#Using mxnet-gluon backend \n",
        "\n",
        "# When installed using pip\n",
        "from monk.gluon_prototype import prototype\n",
        "\n",
        "\n",
        "# When installed manually (Uncomment the following)\n",
        "#import os\n",
        "#import sys\n",
        "#sys.path.append(\"monk_v1/\");\n",
        "#sys.path.append(\"monk_v1/monk/\");\n",
        "#from monk.gluon_prototype import prototype"
      ],
      "execution_count": null,
      "outputs": []
    },
    {
      "cell_type": "code",
      "metadata": {
        "id": "CsGMYQ-P3xjC",
        "colab_type": "code",
        "colab": {}
      },
      "source": [
        "# Download trained weights"
      ],
      "execution_count": null,
      "outputs": []
    },
    {
      "cell_type": "code",
      "metadata": {
        "id": "PfgXThtY3ycp",
        "colab_type": "code",
        "colab": {}
      },
      "source": [
        "! wget --load-cookies /tmp/cookies.txt \"https://docs.google.com/uc?export=download&confirm=$(wget --save-cookies /tmp/cookies.txt --keep-session-cookies --no-check-certificate 'https://docs.google.com/uc?export=download&id=1h_5vpk3-IU6_WVb25G1M8FBKQF9G_eSV' -O- | sed -rn 's/.*confirm=([0-9A-Za-z_]+).*/\\1\\n/p')&id=1h_5vpk3-IU6_WVb25G1M8FBKQF9G_eSV\" -O cls_russian_ocr_trained.zip && rm -rf /tmp/cookies.txt"
      ],
      "execution_count": null,
      "outputs": []
    },
    {
      "cell_type": "code",
      "metadata": {
        "id": "DDWLcXjM33ij",
        "colab_type": "code",
        "colab": {}
      },
      "source": [
        "! unzip -qq cls_russian_ocr_trained.zip"
      ],
      "execution_count": null,
      "outputs": []
    },
    {
      "cell_type": "code",
      "metadata": {
        "id": "WIkO3jvxC_Ei",
        "colab_type": "code",
        "colab": {
          "base_uri": "https://localhost:8080/",
          "height": 35
        },
        "outputId": "207e421e-8bce-4fb3-e4ae-894f0ca19d62"
      },
      "source": [
        "ls workspace/Pilot"
      ],
      "execution_count": 58,
      "outputs": [
        {
          "output_type": "stream",
          "text": [
            "\u001b[0m\u001b[01;34mDensenet_121_3\u001b[0m/  \u001b[01;34mResnet152_3\u001b[0m/  \u001b[01;34mResnet_3\u001b[0m/\n"
          ],
          "name": "stdout"
        }
      ]
    },
    {
      "cell_type": "code",
      "metadata": {
        "id": "IfScH8VgDhFv",
        "colab_type": "code",
        "colab": {
          "base_uri": "https://localhost:8080/",
          "height": 202
        },
        "outputId": "e6cbc1eb-a887-4e3e-da9a-7c87bd1d9ff9"
      },
      "source": [
        "# Load project in inference mode\n",
        "\n",
        "gtf = prototype(verbose=1);\n",
        "gtf.Prototype(\"Pilot\", \"Densenet_121_3\",eval_infer=True);\n",
        "\n",
        "#Other trained models - uncomment \n",
        "#gtf.Prototype(\"Pilot\", \"Resnet152_3\", eval_infer=True);\n",
        "#gtf.Prototype(\"Pilot\", \"Resnet_3\", eval_infer=True);"
      ],
      "execution_count": null,
      "outputs": [
        {
          "output_type": "stream",
          "text": [
            "Mxnet Version: 1.6.0\n",
            "\n",
            "Model Details\n",
            "    Loading model - workspace/Pilot/Densenet_121_3/output/models/final-symbol.json\n",
            "    Model loaded!\n",
            "\n",
            "Experiment Details\n",
            "    Project: Pilot\n",
            "    Experiment: Densenet_121_3\n",
            "    Dir: /content/workspace/Pilot/Densenet_121_3/\n",
            "\n"
          ],
          "name": "stdout"
        }
      ]
    },
    {
      "cell_type": "code",
      "metadata": {
        "id": "N3f10w8p6zIg",
        "colab_type": "code",
        "colab": {}
      },
      "source": [
        "#Infer"
      ],
      "execution_count": null,
      "outputs": []
    },
    {
      "cell_type": "code",
      "metadata": {
        "id": "iEvofZafO7tU",
        "colab_type": "code",
        "colab": {
          "base_uri": "https://localhost:8080/",
          "height": 133
        },
        "outputId": "db4110f0-a9b4-4feb-ff79-6d47c47cd06a"
      },
      "source": [
        "img_name = \"/content/workspace/Test Images/02_37.png\"\n",
        "predictions = gtf.Infer(img_name=img_name);\n",
        "from IPython.display import Image\n",
        "Image(filename=img_name) "
      ],
      "execution_count": null,
      "outputs": [
        {
          "output_type": "stream",
          "text": [
            "Prediction\n",
            "    Image name:         /content/workspace/Test Images/02_37.png\n",
            "    Predicted class:      2\n",
            "    Predicted score:      0.9832128882408142\n",
            "\n"
          ],
          "name": "stdout"
        },
        {
          "output_type": "execute_result",
          "data": {
            "image/png": "[encoded data removed]",
            "text/plain": [
              "<IPython.core.display.Image object>"
            ]
          },
          "metadata": {
            "tags": []
          },
          "execution_count": 10
        }
      ]
    },
    {
      "cell_type": "code",
      "metadata": {
        "id": "5Owb6-ANPDFl",
        "colab_type": "code",
        "colab": {
          "base_uri": "https://localhost:8080/",
          "height": 133
        },
        "outputId": "bef15b8f-4276-4d42-cc78-b78b0276c29b"
      },
      "source": [
        "img_name = \"/content/workspace/Test Images/08_39.png\"\n",
        "predictions = gtf.Infer(img_name=img_name);\n",
        "from IPython.display import Image\n",
        "Image(filename=img_name) "
      ],
      "execution_count": null,
      "outputs": [
        {
          "output_type": "stream",
          "text": [
            "Prediction\n",
            "    Image name:         /content/workspace/Test Images/08_39.png\n",
            "    Predicted class:      8\n",
            "    Predicted score:      0.9993841052055359\n",
            "\n"
          ],
          "name": "stdout"
        },
        {
          "output_type": "execute_result",
          "data": {
            "image/png": "[encoded data removed]",
            "text/plain": [
              "<IPython.core.display.Image object>"
            ]
          },
          "metadata": {
            "tags": []
          },
          "execution_count": 11
        }
      ]
    },
    {
      "cell_type": "code",
      "metadata": {
        "id": "8q0m8baxPSzO",
        "colab_type": "code",
        "colab": {
          "base_uri": "https://localhost:8080/",
          "height": 133
        },
        "outputId": "c128ddfe-1e7d-4924-b538-1b6d1bcb885d"
      },
      "source": [
        "\n",
        "img_name = \"/content/workspace/Test Images/15_122.png\"\n",
        "predictions = gtf.Infer(img_name=img_name);\n",
        "from IPython.display import Image\n",
        "Image(filename=img_name)"
      ],
      "execution_count": null,
      "outputs": [
        {
          "output_type": "stream",
          "text": [
            "Prediction\n",
            "    Image name:         /content/workspace/Test Images/15_122.png\n",
            "    Predicted class:      15\n",
            "    Predicted score:      0.9999675750732422\n",
            "\n"
          ],
          "name": "stdout"
        },
        {
          "output_type": "execute_result",
          "data": {
            "image/png": "[encoded data removed]",
            "text/plain": [
              "<IPython.core.display.Image object>"
            ]
          },
          "metadata": {
            "tags": []
          },
          "execution_count": 12
        }
      ]
    },
    {
      "cell_type": "code",
      "metadata": {
        "id": "BO76wwOtPNsR",
        "colab_type": "code",
        "colab": {
          "base_uri": "https://localhost:8080/",
          "height": 133
        },
        "outputId": "3ea16b4d-1903-452d-beaf-5ee65ea5d539"
      },
      "source": [
        "img_name = \"/content/workspace/Test Images/11_217.png\"\n",
        "predictions = gtf.Infer(img_name=img_name);\n",
        "from IPython.display import Image\n",
        "Image(filename=img_name)"
      ],
      "execution_count": null,
      "outputs": [
        {
          "output_type": "stream",
          "text": [
            "Prediction\n",
            "    Image name:         /content/workspace/Test Images/11_217.png\n",
            "    Predicted class:      11\n",
            "    Predicted score:      0.9968768358230591\n",
            "\n"
          ],
          "name": "stdout"
        },
        {
          "output_type": "execute_result",
          "data": {
            "image/png": "[encoded data removed]",
            "text/plain": [
              "<IPython.core.display.Image object>"
            ]
          },
          "metadata": {
            "tags": []
          },
          "execution_count": 13
        }
      ]
    },
    {
      "cell_type": "code",
      "metadata": {
        "id": "SbjHU0yNPbCk",
        "colab_type": "code",
        "colab": {
          "base_uri": "https://localhost:8080/",
          "height": 133
        },
        "outputId": "5509cf78-3d92-46ac-bbc0-77df7b54e397"
      },
      "source": [
        "img_name = \"/content/workspace/Test Images/24_13.png\"\n",
        "predictions = gtf.Infer(img_name=img_name);\n",
        "from IPython.display import Image\n",
        "Image(filename=img_name)"
      ],
      "execution_count": null,
      "outputs": [
        {
          "output_type": "stream",
          "text": [
            "Prediction\n",
            "    Image name:         /content/workspace/Test Images/24_13.png\n",
            "    Predicted class:      10\n",
            "    Predicted score:      0.8751158714294434\n",
            "\n"
          ],
          "name": "stdout"
        },
        {
          "output_type": "execute_result",
          "data": {
            "image/png": "[encoded data removed]",
            "text/plain": [
              "<IPython.core.display.Image object>"
            ]
          },
          "metadata": {
            "tags": []
          },
          "execution_count": 14
        }
      ]
    },
    {
      "cell_type": "markdown",
      "metadata": {
        "id": "xQZfWGzIDoGR",
        "colab_type": "text"
      },
      "source": [
        "# Train your own network from scratch"
      ]
    },
    {
      "cell_type": "markdown",
      "metadata": {
        "id": "SwLYJN8KrWGY",
        "colab_type": "text"
      },
      "source": [
        "#Dataset Download\n"
      ]
    },
    {
      "cell_type": "markdown",
      "metadata": {
        "id": "h9G2W1nADttd",
        "colab_type": "text"
      },
      "source": [
        "Dataset source: https://www.kaggle.com/olgabelitskaya/classification-of-handwritten-letters"
      ]
    },
    {
      "cell_type": "code",
      "metadata": {
        "id": "wjB9MOn5gB56",
        "colab_type": "code",
        "colab": {
          "resources": {
            "http://localhost:8080/nbextensions/google.colab/files.js": {
              "data": "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",
              "ok": true,
              "headers": [
                [
                  "content-type",
                  "application/javascript"
                ]
              ],
              "status": 200,
              "status_text": ""
            }
          },
          "base_uri": "https://localhost:8080/",
          "height": 274
        },
        "outputId": "d78a52b8-d099-47fc-f804-f7076e3ebf7f"
      },
      "source": [
        "#Installing files from kaggle\n",
        "! pip install kaggle\n",
        "from google.colab import files\n",
        "files.upload()"
      ],
      "execution_count": null,
      "outputs": [
        {
          "output_type": "stream",
          "text": [
            "Requirement already satisfied: kaggle in /usr/local/lib/python3.6/dist-packages (1.5.6)\n",
            "Requirement already satisfied: requests in /usr/local/lib/python3.6/dist-packages (from kaggle) (2.23.0)\n",
            "Requirement already satisfied: six>=1.10 in /usr/local/lib/python3.6/dist-packages (from kaggle) (1.15.0)\n",
            "Requirement already satisfied: tqdm in /usr/local/lib/python3.6/dist-packages (from kaggle) (4.41.1)\n",
            "Requirement already satisfied: python-dateutil in /usr/local/lib/python3.6/dist-packages (from kaggle) (2.8.1)\n",
            "Requirement already satisfied: urllib3<1.25,>=1.21.1 in /usr/local/lib/python3.6/dist-packages (from kaggle) (1.24.3)\n",
            "Requirement already satisfied: python-slugify in /usr/local/lib/python3.6/dist-packages (from kaggle) (4.0.1)\n",
            "Requirement already satisfied: certifi in /usr/local/lib/python3.6/dist-packages (from kaggle) (2020.6.20)\n",
            "Requirement already satisfied: chardet<4,>=3.0.2 in /usr/local/lib/python3.6/dist-packages (from requests->kaggle) (3.0.4)\n",
            "Requirement already satisfied: idna<3,>=2.5 in /usr/local/lib/python3.6/dist-packages (from requests->kaggle) (2.10)\n",
            "Requirement already satisfied: text-unidecode>=1.3 in /usr/local/lib/python3.6/dist-packages (from python-slugify->kaggle) (1.3)\n"
          ],
          "name": "stdout"
        },
        {
          "output_type": "display_data",
          "data": {
            "text/html": [
              "\n",
              "     <input type=\"file\" id=\"files-54fe29a4-1600-4952-85f8-1f3f134a66f6\" name=\"files[]\" multiple disabled\n",
              "        style=\"border:none\" />\n",
              "     <output id=\"result-54fe29a4-1600-4952-85f8-1f3f134a66f6\">\n",
              "      Upload widget is only available when the cell has been executed in the\n",
              "      current browser session. Please rerun this cell to enable.\n",
              "      </output>\n",
              "      <script src=\"/nbextensions/google.colab/files.js\"></script> "
            ],
            "text/plain": [
              "<IPython.core.display.HTML object>"
            ]
          },
          "metadata": {
            "tags": []
          }
        },
        {
          "output_type": "stream",
          "text": [
            "Saving kaggle.json to kaggle.json\n"
          ],
          "name": "stdout"
        },
        {
          "output_type": "execute_result",
          "data": {
            "text/plain": [
              "{'kaggle.json': b'{\"username\":\"sanskar123\",\"key\":\"fdbd2bbf03565f6e8dbb30124539c93d\"}'}"
            ]
          },
          "metadata": {
            "tags": []
          },
          "execution_count": 18
        }
      ]
    },
    {
      "cell_type": "code",
      "metadata": {
        "id": "Y1iR6WfQp1f1",
        "colab_type": "code",
        "colab": {}
      },
      "source": [
        "! mkdir ~/.kaggle\n",
        "! cp kaggle.json ~/.kaggle/\n",
        "! chmod 600 ~/.kaggle/kaggle.json"
      ],
      "execution_count": null,
      "outputs": []
    },
    {
      "cell_type": "code",
      "metadata": {
        "id": "ekFNyqtEgEna",
        "colab_type": "code",
        "colab": {}
      },
      "source": [
        "! kaggle datasets download -d olgabelitskaya/classification-of-handwritten-letters"
      ],
      "execution_count": null,
      "outputs": []
    },
    {
      "cell_type": "code",
      "metadata": {
        "id": "SuqhazKWhCx1",
        "colab_type": "code",
        "colab": {}
      },
      "source": [
        "import zipfile\n",
        "zip_ref = zipfile.ZipFile('classification-of-handwritten-letters.zip', 'r')\n",
        "zip_ref.extractall('files')\n",
        "zip_ref.close()"
      ],
      "execution_count": null,
      "outputs": []
    },
    {
      "cell_type": "code",
      "metadata": {
        "id": "-9DFjU-FhKbg",
        "colab_type": "code",
        "colab": {}
      },
      "source": [
        "#Reading each csv file corresponding to the images\n",
        "df1=pd.read_csv('files/letters.csv')\n",
        "df2=pd.read_csv('files/letters2.csv')\n",
        "df3=pd.read_csv('files/letters3.csv')\n",
        "#Visualizing a sample content of CSV file\n",
        "df1.drop(['letter', 'background'], axis = 1,inplace=True) \n",
        "df2.drop(['letter', 'background'], axis = 1,inplace=True)\n",
        "df3.drop(['letter', 'background'], axis = 1,inplace=True) \n",
        "#Dropping letters as we have it encoded in form of label in the another column\n",
        "#Dropping background column as it does not contribute to target\n",
        "df1 = df1[['file','label']]\n",
        "df2 = df2[['file','label']]\n",
        "df3 = df3[['file','label']]\n",
        "#Keeping columns of the CSV file in desired order\n",
        "df1.to_csv(\"files/sanskars1.csv\",index=False)\n",
        "df2.to_csv(\"files/sanskars2.csv\",index=False)\n",
        "df3.to_csv(\"files/sanskars3.csv\",index=False)"
      ],
      "execution_count": null,
      "outputs": []
    },
    {
      "cell_type": "markdown",
      "metadata": {
        "id": "x4klkI1cEMVI",
        "colab_type": "text"
      },
      "source": [
        "#Training"
      ]
    },
    {
      "cell_type": "code",
      "metadata": {
        "id": "7x6UA3ZbixDi",
        "colab_type": "code",
        "colab": {}
      },
      "source": [
        "gtf = prototype(verbose=1);\n",
        "gtf.Prototype(\"Pilot\", \"Densenet121\");"
      ],
      "execution_count": null,
      "outputs": []
    },
    {
      "cell_type": "code",
      "metadata": {
        "id": "xfN0JpIHkUsm",
        "colab_type": "code",
        "colab": {}
      },
      "source": [
        "gtf.Default(dataset_path=\"files/letters2\", \n",
        "            path_to_csv =\"files/sanskars2.csv\",\n",
        "            model_name=\"densenet121\", \n",
        "            freeze_base_network=False,\n",
        "            delimiter = \",\",\n",
        "            num_epochs=5);"
      ],
      "execution_count": null,
      "outputs": []
    },
    {
      "cell_type": "code",
      "metadata": {
        "id": "gzrMEqJCkgB1",
        "colab_type": "code",
        "colab": {}
      },
      "source": [
        "#Shuffle the data\n",
        "gtf.update_shuffle_data(True);\n",
        "#For densenets batch size of 2 and 4 did not work well, after increasing batch size further  8  validation loss increases \n",
        "gtf.update_batch_size(8);\n",
        "#learning rate 0.1 and 0.05 were not working well, lr lesser than that didn't vary much, almost same val and training loss: 0.01 best choice\n",
        "#Optimizers like Adam and its variants are very fast at converging but the problem with them are they sometimes get stuck at local optima's.      \n",
        "#Optimizers like SGD and SGD plus momentum are slower to converge , but they dont get stuck at local optima easily.\n",
        "#After analysing all these optimizers , sgd worked better.\n",
        "gtf.optimizer_sgd(0.01);\n",
        "#Important to run reload post updates\n",
        "gtf.Reload();"
      ],
      "execution_count": null,
      "outputs": []
    },
    {
      "cell_type": "code",
      "metadata": {
        "id": "V8IGFlS-lCLH",
        "colab_type": "code",
        "colab": {}
      },
      "source": [
        "#Train\n",
        "gtf.Train();"
      ],
      "execution_count": null,
      "outputs": []
    },
    {
      "cell_type": "code",
      "metadata": {
        "id": "-uozVhw2lF6N",
        "colab_type": "code",
        "colab": {}
      },
      "source": [
        "#Updating 2nd folder dataset to last experiment  \n",
        "gtf = prototype(verbose=1);\n",
        "gtf.Prototype(\"Pilot\", \"Densenet121_2\", \n",
        "              copy_from=[\"Pilot\", \"Densenet121\"]);\n",
        "gtf.update_dataset(dataset_path=\"files/letters\",\n",
        "                   path_to_csv=\"files/sanskars1.csv\")                 \n",
        "gtf.Reload();"
      ],
      "execution_count": null,
      "outputs": []
    },
    {
      "cell_type": "code",
      "metadata": {
        "id": "lMkqzUrFlJSc",
        "colab_type": "code",
        "colab": {}
      },
      "source": [
        "#Continue Training\n",
        "gtf.Train();"
      ],
      "execution_count": null,
      "outputs": []
    },
    {
      "cell_type": "code",
      "metadata": {
        "id": "HXryoM2EB1gQ",
        "colab_type": "code",
        "colab": {}
      },
      "source": [
        "#Updating 3rd folder dataset to last experiment\n",
        "gtf = prototype(verbose=1);\n",
        "gtf.Prototype(\"Pilot\", \"Densenet121_3\", \n",
        "              copy_from=[\"Pilot\", \"Densenet121_2\"]);\n",
        "gtf.update_dataset(dataset_path=\"files/letters3\",\n",
        "                   path_to_csv=\"files/sanskars3.csv\");\n",
        "gtf.Reload();"
      ],
      "execution_count": null,
      "outputs": []
    },
    {
      "cell_type": "code",
      "metadata": {
        "id": "e8SYmLq5B4Au",
        "colab_type": "code",
        "colab": {}
      },
      "source": [
        "#Train\n",
        "gtf.Train();"
      ],
      "execution_count": null,
      "outputs": []
    },
    {
      "cell_type": "markdown",
      "metadata": {
        "id": "XTRr0O6pEV1E",
        "colab_type": "text"
      },
      "source": [
        "#Inference on Images"
      ]
    },
    {
      "cell_type": "code",
      "metadata": {
        "id": "ypdMa3M-lnSu",
        "colab_type": "code",
        "colab": {
          "base_uri": "https://localhost:8080/",
          "height": 212
        },
        "outputId": "e2e75b2c-5866-4c14-b5fb-60b4877e1fe1"
      },
      "source": [
        "gtf = prototype(verbose=1);\n",
        "gtf.Prototype(\"Pilot\", \"Densenet121_3\", eval_infer=True);"
      ],
      "execution_count": 51,
      "outputs": [
        {
          "output_type": "stream",
          "text": [
            "Mxnet Version: 1.6.0\n",
            "\n",
            "Model Details\n",
            "    Loading model - workspace/Pilot/Densenet121_3/output/models/final-symbol.json\n",
            "    Model loaded!\n",
            "\n",
            "Experiment Details\n",
            "    Project: Pilot\n",
            "    Experiment: Densenet121_3\n",
            "    Dir: /content/workspace/Pilot/Densenet121_3/\n",
            "\n"
          ],
          "name": "stdout"
        }
      ]
    },
    {
      "cell_type": "code",
      "metadata": {
        "id": "ly8UoJ82xtPP",
        "colab_type": "code",
        "colab": {
          "base_uri": "https://localhost:8080/",
          "height": 406
        },
        "outputId": "e45c3da3-b05b-4d07-dd0b-9579f047e909"
      },
      "source": [
        "img_name = \"workspace/Test Images/08_39.png\";\n",
        "predictions = gtf.Infer(img_name=img_name);\n",
        "\n",
        "#Display \n",
        "from IPython.display import Image\n",
        "Image(filename=img_name,width=300, height=300)"
      ],
      "execution_count": 57,
      "outputs": [
        {
          "output_type": "stream",
          "text": [
            "Prediction\n",
            "    Image name:         /content/workspace/Test Images/08_39.png\n",
            "    Predicted class:      8\n",
            "    Predicted score:      0.999697744846344\n",
            "\n"
          ],
          "name": "stdout"
        },
        {
          "output_type": "execute_result",
          "data": {
            "image/png": "[encoded data removed]",
            "text/plain": [
              "<IPython.core.display.Image object>"
            ]
          },
          "metadata": {
            "tags": [],
            "image/png": {
              "width": 300,
              "height": 300
            }
          },
          "execution_count": 57
        }
      ]
    },
    {
      "cell_type": "code",
      "metadata": {
        "id": "XXwL2cBigOlK",
        "colab_type": "code",
        "colab": {
          "base_uri": "https://localhost:8080/",
          "height": 406
        },
        "outputId": "9e3acb5c-c056-4fca-a764-6b03a8ea8e98"
      },
      "source": [
        "img_name = \"workspace/Test Images/33_209.png\"\n",
        "predictions = gtf.Infer(img_name=img_name);\n",
        "\n",
        "from IPython.display import Image\n",
        "Image(filename=img_name, width =300 , height =300)"
      ],
      "execution_count": 56,
      "outputs": [
        {
          "output_type": "stream",
          "text": [
            "Prediction\n",
            "    Image name:         /content/workspace/Test Images/33_209.png\n",
            "    Predicted class:      33\n",
            "    Predicted score:      0.9955666661262512\n",
            "\n"
          ],
          "name": "stdout"
        },
        {
          "output_type": "execute_result",
          "data": {
            "image/png": "[encoded data removed]",
            "text/plain": [
              "<IPython.core.display.Image object>"
            ]
          },
          "metadata": {
            "tags": [],
            "image/png": {
              "width": 300,
              "height": 300
            }
          },
          "execution_count": 56
        }
      ]
    }
  ]
}